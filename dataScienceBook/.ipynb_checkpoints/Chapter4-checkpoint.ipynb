{
 "cells": [
  {
   "cell_type": "code",
   "execution_count": 55,
   "id": "da544c60",
   "metadata": {},
   "outputs": [],
   "source": [
    "def vector_add(v,w):\n",
    "    return [v_i+w_i for v_i, w_i in zip(v,w)]\n"
   ]
  },
  {
   "cell_type": "code",
   "execution_count": 57,
   "id": "5422aac7",
   "metadata": {},
   "outputs": [
    {
     "name": "stdout",
     "output_type": "stream",
     "text": [
      "[46, 49]\n"
     ]
    }
   ],
   "source": [
    "print(vector_add([1,1], [45,48]))"
   ]
  },
  {
   "cell_type": "code",
   "execution_count": 59,
   "id": "a2d19490",
   "metadata": {},
   "outputs": [],
   "source": [
    "def vector_subtract(x,y):\n",
    "    return [x_i-y_i for x_i, y_i in zip(x,y)]"
   ]
  },
  {
   "cell_type": "code",
   "execution_count": 61,
   "id": "f18e0f4f",
   "metadata": {},
   "outputs": [
    {
     "name": "stdout",
     "output_type": "stream",
     "text": [
      "[55, 2]\n"
     ]
    }
   ],
   "source": [
    "print(vector_subtract([100,50], [45,48]))"
   ]
  }
 ],
 "metadata": {
  "kernelspec": {
   "display_name": "Python 3 (ipykernel)",
   "language": "python",
   "name": "python3"
  },
  "language_info": {
   "codemirror_mode": {
    "name": "ipython",
    "version": 3
   },
   "file_extension": ".py",
   "mimetype": "text/x-python",
   "name": "python",
   "nbconvert_exporter": "python",
   "pygments_lexer": "ipython3",
   "version": "3.11.5"
  }
 },
 "nbformat": 4,
 "nbformat_minor": 5
}
