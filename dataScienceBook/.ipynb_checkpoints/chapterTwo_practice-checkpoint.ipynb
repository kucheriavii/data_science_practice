{
 "cells": [
  {
   "cell_type": "code",
   "execution_count": 5,
   "id": "e285bb9e",
   "metadata": {},
   "outputs": [
    {
     "name": "stdout",
     "output_type": "stream",
     "text": [
      "2\n",
      "3\n",
      "4\n",
      "5\n",
      "6\n",
      "3\n",
      "4\n",
      "5\n",
      "6\n",
      "7\n",
      "4\n",
      "5\n",
      "6\n",
      "7\n",
      "8\n",
      "5\n",
      "6\n",
      "7\n",
      "8\n",
      "9\n",
      "6\n",
      "7\n",
      "8\n",
      "9\n",
      "10\n"
     ]
    }
   ],
   "source": [
    "for i in [1,2,3,4,5]:\n",
    "    for j in [1,2,3,4,5]:\n",
    "        print(i+j)"
   ]
  },
  {
   "cell_type": "code",
   "execution_count": 6,
   "id": "4f029596",
   "metadata": {},
   "outputs": [],
   "source": [
    "long_winded_computation = (1+2+3+4+5+6+7+8+9+0+11+12+13+14+15+16+17+18+19+20)"
   ]
  },
  {
   "cell_type": "code",
   "execution_count": 7,
   "id": "f1fd3955",
   "metadata": {},
   "outputs": [
    {
     "data": {
      "text/plain": [
       "200"
      ]
     },
     "execution_count": 7,
     "metadata": {},
     "output_type": "execute_result"
    }
   ],
   "source": [
    "long_winded_computation"
   ]
  },
  {
   "cell_type": "code",
   "execution_count": 8,
   "id": "28a31a23",
   "metadata": {},
   "outputs": [],
   "source": [
    "list_of_lists = [[1,2,3],[4,5,6],[7,8,9]]"
   ]
  },
  {
   "cell_type": "code",
   "execution_count": 11,
   "id": "bc4a3d26",
   "metadata": {},
   "outputs": [
    {
     "data": {
      "text/plain": [
       "1"
      ]
     },
     "execution_count": 11,
     "metadata": {},
     "output_type": "execute_result"
    }
   ],
   "source": [
    "list_of_lists[0][0]"
   ]
  },
  {
   "cell_type": "code",
   "execution_count": 12,
   "id": "f9d8822a",
   "metadata": {},
   "outputs": [
    {
     "data": {
      "text/plain": [
       "2.5"
      ]
     },
     "execution_count": 12,
     "metadata": {},
     "output_type": "execute_result"
    }
   ],
   "source": [
    "5/2"
   ]
  },
  {
   "cell_type": "code",
   "execution_count": 13,
   "id": "ff0c83c7",
   "metadata": {},
   "outputs": [],
   "source": [
    "#functions\n",
    "def double(x):\n",
    "    return x*2"
   ]
  },
  {
   "cell_type": "code",
   "execution_count": 14,
   "id": "0e6b1fc3",
   "metadata": {},
   "outputs": [
    {
     "name": "stdout",
     "output_type": "stream",
     "text": [
      "20\n"
     ]
    }
   ],
   "source": [
    "print(double(10))"
   ]
  },
  {
   "cell_type": "code",
   "execution_count": 16,
   "id": "6e522a0b",
   "metadata": {},
   "outputs": [],
   "source": [
    "def applay_to_one(f):\n",
    "    return f(1)"
   ]
  },
  {
   "cell_type": "code",
   "execution_count": 17,
   "id": "3a8b3d71",
   "metadata": {},
   "outputs": [],
   "source": [
    "my_double = double\n",
    "x = applay_to_one(my_double)"
   ]
  },
  {
   "cell_type": "code",
   "execution_count": 18,
   "id": "1c13161d",
   "metadata": {},
   "outputs": [
    {
     "data": {
      "text/plain": [
       "2"
      ]
     },
     "execution_count": 18,
     "metadata": {},
     "output_type": "execute_result"
    }
   ],
   "source": [
    "x"
   ]
  },
  {
   "cell_type": "code",
   "execution_count": 26,
   "id": "30dc35a7",
   "metadata": {},
   "outputs": [],
   "source": [
    "myList = [1,2,3]\n",
    "myTuple = (1,2,3)\n",
    "myVoc = {\"first\": 1, \"second\": 0}"
   ]
  },
  {
   "cell_type": "code",
   "execution_count": 27,
   "id": "90ec87f8",
   "metadata": {},
   "outputs": [
    {
     "data": {
      "text/plain": [
       "[1, 2, 3, 4]"
      ]
     },
     "execution_count": 27,
     "metadata": {},
     "output_type": "execute_result"
    }
   ],
   "source": [
    "myList.append(4)\n",
    "myList"
   ]
  },
  {
   "cell_type": "code",
   "execution_count": 28,
   "id": "005500d7",
   "metadata": {},
   "outputs": [
    {
     "data": {
      "text/plain": [
       "3"
      ]
     },
     "execution_count": 28,
     "metadata": {},
     "output_type": "execute_result"
    }
   ],
   "source": [
    "myTuple[2]"
   ]
  },
  {
   "cell_type": "code",
   "execution_count": 30,
   "id": "59dfcbb6",
   "metadata": {},
   "outputs": [],
   "source": [
    "# myTuple[2] = do not try to change tuple"
   ]
  },
  {
   "cell_type": "code",
   "execution_count": 32,
   "id": "ccf5ca25",
   "metadata": {},
   "outputs": [
    {
     "data": {
      "text/plain": [
       "1"
      ]
     },
     "execution_count": 32,
     "metadata": {},
     "output_type": "execute_result"
    }
   ],
   "source": [
    "myVoc[\"first\"]"
   ]
  },
  {
   "cell_type": "code",
   "execution_count": 33,
   "id": "efa6c5ca",
   "metadata": {},
   "outputs": [],
   "source": [
    "myVoc[\"first\"] = 55"
   ]
  },
  {
   "cell_type": "code",
   "execution_count": 35,
   "id": "2e601989",
   "metadata": {},
   "outputs": [],
   "source": [
    "myVoc[\"toto\"] = \"5656\""
   ]
  },
  {
   "cell_type": "code",
   "execution_count": 36,
   "id": "ccc5c42b",
   "metadata": {},
   "outputs": [
    {
     "data": {
      "text/plain": [
       "{'first': 55, 'second': 0, 'toto': '5656'}"
      ]
     },
     "execution_count": 36,
     "metadata": {},
     "output_type": "execute_result"
    }
   ],
   "source": [
    "myVoc"
   ]
  },
  {
   "cell_type": "code",
   "execution_count": null,
   "id": "3bcab63c",
   "metadata": {},
   "outputs": [],
   "source": []
  }
 ],
 "metadata": {
  "kernelspec": {
   "display_name": "Python 3 (ipykernel)",
   "language": "python",
   "name": "python3"
  },
  "language_info": {
   "codemirror_mode": {
    "name": "ipython",
    "version": 3
   },
   "file_extension": ".py",
   "mimetype": "text/x-python",
   "name": "python",
   "nbconvert_exporter": "python",
   "pygments_lexer": "ipython3",
   "version": "3.11.5"
  }
 },
 "nbformat": 4,
 "nbformat_minor": 5
}
