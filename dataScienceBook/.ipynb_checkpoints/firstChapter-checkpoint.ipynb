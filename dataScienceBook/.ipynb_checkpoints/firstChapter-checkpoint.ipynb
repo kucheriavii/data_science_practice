{
 "cells": [
  {
   "cell_type": "markdown",
   "id": "5d89eb38",
   "metadata": {},
   "source": [
    "## Chapter 1"
   ]
  },
  {
   "cell_type": "code",
   "execution_count": 7,
   "id": "b8253f94",
   "metadata": {},
   "outputs": [],
   "source": [
    "users = [\n",
    "    {\"id\": 0, \"name\":\"Hero\"},\n",
    "    {\"id\": 1, \"name\":\"Dunn\"},\n",
    "    {\"id\": 2, \"name\":\"Sue\"},\n",
    "    {\"id\": 3, \"name\":\"Chi\"},\n",
    "    {\"id\": 4, \"name\":\"Thor\"},\n",
    "    {\"id\": 5, \"name\":\"Clive\"},\n",
    "    {\"id\": 6, \"name\":\"Hicks\"},\n",
    "    {\"id\": 7, \"name\":\"Devin\"},\n",
    "    {\"id\": 8, \"name\":\"Kate\"},\n",
    "    {\"id\": 9, \"name\":\"Klein\"},\n",
    "];"
   ]
  },
  {
   "cell_type": "code",
   "execution_count": 8,
   "id": "55cbe114",
   "metadata": {},
   "outputs": [],
   "source": [
    "friendship = [\n",
    "    (0,1), (0,2), (1,2), (1,3),(2,3),(3,4),(4,5),(5,6),(5,7),(6,8),(7,8),(8,9)\n",
    "]"
   ]
  },
  {
   "cell_type": "code",
   "execution_count": 9,
   "id": "d27b521f",
   "metadata": {},
   "outputs": [],
   "source": [
    "for user in users:\n",
    "    user[\"friends\"] = []"
   ]
  },
  {
   "cell_type": "code",
   "execution_count": 10,
   "id": "25866b8d",
   "metadata": {},
   "outputs": [],
   "source": [
    "for i,j in friendship:\n",
    "    users[i][\"friends\"].append(users[j])\n",
    "    users[j][\"friends\"].append(users[i])"
   ]
  },
  {
   "cell_type": "code",
   "execution_count": 11,
   "id": "6a6b4e9d",
   "metadata": {},
   "outputs": [],
   "source": [
    "def number_of_friends(user):\n",
    "    return len(user[\"friends\"])"
   ]
  },
  {
   "cell_type": "code",
   "execution_count": 14,
   "id": "222f5557",
   "metadata": {},
   "outputs": [],
   "source": [
    "total_conections = sum(number_of_friends(user) for user in users)"
   ]
  },
  {
   "cell_type": "code",
   "execution_count": null,
   "id": "c10cddc4",
   "metadata": {},
   "outputs": [],
   "source": []
  },
  {
   "cell_type": "code",
   "execution_count": 22,
   "id": "db7be8f1",
   "metadata": {},
   "outputs": [],
   "source": [
    "num_friends_by_id = [(user[\"id\"], number_of_friends(user)) for user in users]"
   ]
  },
  {
   "cell_type": "code",
   "execution_count": 25,
   "id": "838d395d",
   "metadata": {},
   "outputs": [
    {
     "data": {
      "text/plain": [
       "[(1, 3),\n",
       " (2, 3),\n",
       " (3, 3),\n",
       " (5, 3),\n",
       " (8, 3),\n",
       " (0, 2),\n",
       " (4, 2),\n",
       " (6, 2),\n",
       " (7, 2),\n",
       " (9, 1)]"
      ]
     },
     "execution_count": 25,
     "metadata": {},
     "output_type": "execute_result"
    }
   ],
   "source": [
    "sorted(num_friends_by_id, key=lambda x: x[1], reverse=True)"
   ]
  },
  {
   "cell_type": "code",
   "execution_count": 27,
   "id": "a5a57c4a",
   "metadata": {},
   "outputs": [],
   "source": [
    "def friends_of_friend_ids_bad(user):\n",
    "    return [foaf[\"id\"]\n",
    "           for friend in user[\"friends\"]\n",
    "           for foaf in friend[\"friends\"]]"
   ]
  },
  {
   "cell_type": "code",
   "execution_count": 32,
   "id": "5bb875b7",
   "metadata": {},
   "outputs": [
    {
     "data": {
      "text/plain": [
       "[1, 2, 0, 1, 3, 1, 2, 4]"
      ]
     },
     "execution_count": 32,
     "metadata": {},
     "output_type": "execute_result"
    }
   ],
   "source": [
    "friends_of_friend_ids_bad(users[1])"
   ]
  },
  {
   "cell_type": "code",
   "execution_count": 39,
   "id": "2b14c6f1",
   "metadata": {},
   "outputs": [],
   "source": [
    "from collections import Counter\n",
    "def not_the_same(user, other_user):\n",
    "    return user[\"id\"] != other_user[\"id\"]\n",
    "\n",
    "def not_friends(user, other_user):\n",
    "    return all(not_the_same(friend, other_user) for friend in user[\"friends\"])\n",
    "\n",
    "def friends_of_friends_ids(user):\n",
    "    return Counter(foaf[\"id\"]\n",
    "                      for friend in user[\"friends\"]\n",
    "                      for foaf in friend[\"friends\"]\n",
    "                      if not_the_same(user, foaf)\n",
    "                      and not_friends(user, foaf))"
   ]
  },
  {
   "cell_type": "code",
   "execution_count": 40,
   "id": "06d6f9f3",
   "metadata": {},
   "outputs": [
    {
     "name": "stdout",
     "output_type": "stream",
     "text": [
      "Counter({0: 2, 5: 1})\n"
     ]
    }
   ],
   "source": [
    "print(friends_of_friends_ids(users[3]))"
   ]
  },
  {
   "cell_type": "code",
   "execution_count": null,
   "id": "16d17a8a",
   "metadata": {},
   "outputs": [],
   "source": []
  }
 ],
 "metadata": {
  "kernelspec": {
   "display_name": "Python 3 (ipykernel)",
   "language": "python",
   "name": "python3"
  },
  "language_info": {
   "codemirror_mode": {
    "name": "ipython",
    "version": 3
   },
   "file_extension": ".py",
   "mimetype": "text/x-python",
   "name": "python",
   "nbconvert_exporter": "python",
   "pygments_lexer": "ipython3",
   "version": "3.11.5"
  }
 },
 "nbformat": 4,
 "nbformat_minor": 5
}
