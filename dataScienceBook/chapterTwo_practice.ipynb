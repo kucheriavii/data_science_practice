{
 "cells": [
  {
   "cell_type": "code",
   "execution_count": 5,
   "id": "92179040",
   "metadata": {},
   "outputs": [
    {
     "name": "stdout",
     "output_type": "stream",
     "text": [
      "2\n",
      "3\n",
      "4\n",
      "5\n",
      "6\n",
      "3\n",
      "4\n",
      "5\n",
      "6\n",
      "7\n",
      "4\n",
      "5\n",
      "6\n",
      "7\n",
      "8\n",
      "5\n",
      "6\n",
      "7\n",
      "8\n",
      "9\n",
      "6\n",
      "7\n",
      "8\n",
      "9\n",
      "10\n"
     ]
    }
   ],
   "source": [
    "for i in [1,2,3,4,5]:\n",
    "    for j in [1,2,3,4,5]:\n",
    "        print(i+j)"
   ]
  },
  {
   "cell_type": "code",
   "execution_count": 6,
   "id": "eb3ea979",
   "metadata": {},
   "outputs": [],
   "source": [
    "long_winded_computation = (1+2+3+4+5+6+7+8+9+0+11+12+13+14+15+16+17+18+19+20)"
   ]
  },
  {
   "cell_type": "code",
   "execution_count": 7,
   "id": "c6f5222c",
   "metadata": {},
   "outputs": [
    {
     "data": {
      "text/plain": [
       "200"
      ]
     },
     "execution_count": 7,
     "metadata": {},
     "output_type": "execute_result"
    }
   ],
   "source": [
    "long_winded_computation"
   ]
  },
  {
   "cell_type": "code",
   "execution_count": 8,
   "id": "d00fcda9",
   "metadata": {},
   "outputs": [],
   "source": [
    "list_of_lists = [[1,2,3],[4,5,6],[7,8,9]]"
   ]
  },
  {
   "cell_type": "code",
   "execution_count": 11,
   "id": "f2a7f255",
   "metadata": {},
   "outputs": [
    {
     "data": {
      "text/plain": [
       "1"
      ]
     },
     "execution_count": 11,
     "metadata": {},
     "output_type": "execute_result"
    }
   ],
   "source": [
    "list_of_lists[0][0]"
   ]
  },
  {
   "cell_type": "code",
   "execution_count": 12,
   "id": "e36c7679",
   "metadata": {},
   "outputs": [
    {
     "data": {
      "text/plain": [
       "2.5"
      ]
     },
     "execution_count": 12,
     "metadata": {},
     "output_type": "execute_result"
    }
   ],
   "source": [
    "5/2"
   ]
  },
  {
   "cell_type": "code",
   "execution_count": 13,
   "id": "aeaf4c6a",
   "metadata": {},
   "outputs": [],
   "source": [
    "#functions\n",
    "def double(x):\n",
    "    return x*2"
   ]
  },
  {
   "cell_type": "code",
   "execution_count": 14,
   "id": "9dc64e94",
   "metadata": {},
   "outputs": [
    {
     "name": "stdout",
     "output_type": "stream",
     "text": [
      "20\n"
     ]
    }
   ],
   "source": [
    "print(double(10))"
   ]
  },
  {
   "cell_type": "code",
   "execution_count": 16,
   "id": "867bbf17",
   "metadata": {},
   "outputs": [],
   "source": [
    "def applay_to_one(f):\n",
    "    return f(1)"
   ]
  },
  {
   "cell_type": "code",
   "execution_count": 17,
   "id": "b32c9869",
   "metadata": {},
   "outputs": [],
   "source": [
    "my_double = double\n",
    "x = applay_to_one(my_double)"
   ]
  },
  {
   "cell_type": "code",
   "execution_count": 18,
   "id": "0b9aa31b",
   "metadata": {},
   "outputs": [
    {
     "data": {
      "text/plain": [
       "2"
      ]
     },
     "execution_count": 18,
     "metadata": {},
     "output_type": "execute_result"
    }
   ],
   "source": [
    "x"
   ]
  },
  {
   "cell_type": "code",
   "execution_count": 26,
   "id": "3410eae1",
   "metadata": {},
   "outputs": [],
   "source": [
    "myList = [1,2,3]\n",
    "myTuple = (1,2,3)\n",
    "myVoc = {\"first\": 1, \"second\": 0}"
   ]
  },
  {
   "cell_type": "code",
   "execution_count": 27,
   "id": "d41ba933",
   "metadata": {},
   "outputs": [
    {
     "data": {
      "text/plain": [
       "[1, 2, 3, 4]"
      ]
     },
     "execution_count": 27,
     "metadata": {},
     "output_type": "execute_result"
    }
   ],
   "source": [
    "myList.append(4)\n",
    "myList"
   ]
  },
  {
   "cell_type": "code",
   "execution_count": 28,
   "id": "58f54fe5",
   "metadata": {},
   "outputs": [
    {
     "data": {
      "text/plain": [
       "3"
      ]
     },
     "execution_count": 28,
     "metadata": {},
     "output_type": "execute_result"
    }
   ],
   "source": [
    "myTuple[2]"
   ]
  },
  {
   "cell_type": "code",
   "execution_count": 30,
   "id": "9d629a6e",
   "metadata": {},
   "outputs": [],
   "source": [
    "# myTuple[2] = do not try to change tuple"
   ]
  },
  {
   "cell_type": "code",
   "execution_count": 32,
   "id": "fdbd5f62",
   "metadata": {},
   "outputs": [
    {
     "data": {
      "text/plain": [
       "1"
      ]
     },
     "execution_count": 32,
     "metadata": {},
     "output_type": "execute_result"
    }
   ],
   "source": [
    "myVoc[\"first\"]"
   ]
  },
  {
   "cell_type": "code",
   "execution_count": 33,
   "id": "6e9c2c90",
   "metadata": {},
   "outputs": [],
   "source": [
    "myVoc[\"first\"] = 55"
   ]
  },
  {
   "cell_type": "code",
   "execution_count": 35,
   "id": "4ffa92c5",
   "metadata": {},
   "outputs": [],
   "source": [
    "myVoc[\"toto\"] = \"5656\""
   ]
  },
  {
   "cell_type": "code",
   "execution_count": 38,
   "id": "5786975d",
   "metadata": {},
   "outputs": [
    {
     "data": {
      "text/plain": [
       "dict_keys(['first', 'second', 'toto'])"
      ]
     },
     "execution_count": 38,
     "metadata": {},
     "output_type": "execute_result"
    }
   ],
   "source": [
    "myVoc.keys() #вивести всі ключі"
   ]
  },
  {
   "cell_type": "code",
   "execution_count": 40,
   "id": "87323088",
   "metadata": {},
   "outputs": [],
   "source": [
    "#DEFAULDICT 48"
   ]
  },
  {
   "cell_type": "code",
   "execution_count": 49,
   "id": "5f9e08fa",
   "metadata": {},
   "outputs": [],
   "source": [
    "document = \"Доки стоїть Україна, армія Франції буде на території Франції. Але якщо Путін піде війною на ту чи іншу країну НАТО, тоді країни НАТО будуть вирішувати, як і в якій кількості відправляти або не відправляти своїх воїнів, свої армії, бойові бригади і батальйони, – зазначив Володимир Зеленський.Його далі запитали, що б він сказав французам, які побоюються втягнення Франції чи інших європейських держав у війну і турбуются, щоб їхні діти не помирали в Україні\""
   ]
  },
  {
   "cell_type": "code",
   "execution_count": 58,
   "id": "03193209",
   "metadata": {},
   "outputs": [
    {
     "data": {
      "text/plain": [
       "{'Доки': 1,\n",
       " 'стоїть': 1,\n",
       " 'Україна,': 1,\n",
       " 'армія': 1,\n",
       " 'Франції': 2,\n",
       " 'буде': 1,\n",
       " 'на': 2,\n",
       " 'території': 1,\n",
       " 'Франції.': 1,\n",
       " 'Але': 1,\n",
       " 'якщо': 1,\n",
       " 'Путін': 1,\n",
       " 'піде': 1,\n",
       " 'війною': 1,\n",
       " 'ту': 1,\n",
       " 'чи': 2,\n",
       " 'іншу': 1,\n",
       " 'країну': 1,\n",
       " 'НАТО,': 1,\n",
       " 'тоді': 1,\n",
       " 'країни': 1,\n",
       " 'НАТО': 1,\n",
       " 'будуть': 1,\n",
       " 'вирішувати,': 1,\n",
       " 'як': 1,\n",
       " 'і': 3,\n",
       " 'в': 2,\n",
       " 'якій': 1,\n",
       " 'кількості': 1,\n",
       " 'відправляти': 2,\n",
       " 'або': 1,\n",
       " 'не': 2,\n",
       " 'своїх': 1,\n",
       " 'воїнів,': 1,\n",
       " 'свої': 1,\n",
       " 'армії,': 1,\n",
       " 'бойові': 1,\n",
       " 'бригади': 1,\n",
       " 'батальйони,': 1,\n",
       " '–': 1,\n",
       " 'зазначив': 1,\n",
       " 'Володимир': 1,\n",
       " 'Зеленський.Його': 1,\n",
       " 'далі': 1,\n",
       " 'запитали,': 1,\n",
       " 'що': 1,\n",
       " 'б': 1,\n",
       " 'він': 1,\n",
       " 'сказав': 1,\n",
       " 'французам,': 1,\n",
       " 'які': 1,\n",
       " 'побоюються': 1,\n",
       " 'втягнення': 1,\n",
       " 'інших': 1,\n",
       " 'європейських': 1,\n",
       " 'держав': 1,\n",
       " 'у': 1,\n",
       " 'війну': 1,\n",
       " 'турбуются,': 1,\n",
       " 'щоб': 1,\n",
       " 'їхні': 1,\n",
       " 'діти': 1,\n",
       " 'помирали': 1,\n",
       " 'Україні': 1}"
      ]
     },
     "execution_count": 58,
     "metadata": {},
     "output_type": "execute_result"
    }
   ],
   "source": [
    "document_split = document.split(\" \")\n",
    "word_counts = {}\n",
    "for word in document_split:\n",
    "    if word in word_counts:\n",
    "        word_counts[word]+=1\n",
    "    else:\n",
    "        word_counts[word] = 1\n",
    "word_counts"
   ]
  },
  {
   "cell_type": "code",
   "execution_count": null,
   "id": "49f74e52",
   "metadata": {},
   "outputs": [],
   "source": []
  }
 ],
 "metadata": {
  "kernelspec": {
   "display_name": "Python 3 (ipykernel)",
   "language": "python",
   "name": "python3"
  },
  "language_info": {
   "codemirror_mode": {
    "name": "ipython",
    "version": 3
   },
   "file_extension": ".py",
   "mimetype": "text/x-python",
   "name": "python",
   "nbconvert_exporter": "python",
   "pygments_lexer": "ipython3",
   "version": "3.11.5"
  }
 },
 "nbformat": 4,
 "nbformat_minor": 5
}
