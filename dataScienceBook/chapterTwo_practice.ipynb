{
 "cells": [
  {
   "cell_type": "code",
   "execution_count": 5,
   "id": "92179040",
   "metadata": {},
   "outputs": [
    {
     "name": "stdout",
     "output_type": "stream",
     "text": [
      "2\n",
      "3\n",
      "4\n",
      "5\n",
      "6\n",
      "3\n",
      "4\n",
      "5\n",
      "6\n",
      "7\n",
      "4\n",
      "5\n",
      "6\n",
      "7\n",
      "8\n",
      "5\n",
      "6\n",
      "7\n",
      "8\n",
      "9\n",
      "6\n",
      "7\n",
      "8\n",
      "9\n",
      "10\n"
     ]
    }
   ],
   "source": [
    "for i in [1,2,3,4,5]:\n",
    "    for j in [1,2,3,4,5]:\n",
    "        print(i+j)"
   ]
  },
  {
   "cell_type": "code",
   "execution_count": 6,
   "id": "eb3ea979",
   "metadata": {},
   "outputs": [],
   "source": [
    "long_winded_computation = (1+2+3+4+5+6+7+8+9+0+11+12+13+14+15+16+17+18+19+20)"
   ]
  },
  {
   "cell_type": "code",
   "execution_count": 7,
   "id": "c6f5222c",
   "metadata": {},
   "outputs": [
    {
     "data": {
      "text/plain": [
       "200"
      ]
     },
     "execution_count": 7,
     "metadata": {},
     "output_type": "execute_result"
    }
   ],
   "source": [
    "long_winded_computation"
   ]
  },
  {
   "cell_type": "code",
   "execution_count": 8,
   "id": "d00fcda9",
   "metadata": {},
   "outputs": [],
   "source": [
    "list_of_lists = [[1,2,3],[4,5,6],[7,8,9]]"
   ]
  },
  {
   "cell_type": "code",
   "execution_count": 11,
   "id": "f2a7f255",
   "metadata": {},
   "outputs": [
    {
     "data": {
      "text/plain": [
       "1"
      ]
     },
     "execution_count": 11,
     "metadata": {},
     "output_type": "execute_result"
    }
   ],
   "source": [
    "list_of_lists[0][0]"
   ]
  },
  {
   "cell_type": "code",
   "execution_count": 12,
   "id": "e36c7679",
   "metadata": {},
   "outputs": [
    {
     "data": {
      "text/plain": [
       "2.5"
      ]
     },
     "execution_count": 12,
     "metadata": {},
     "output_type": "execute_result"
    }
   ],
   "source": [
    "5/2"
   ]
  },
  {
   "cell_type": "code",
   "execution_count": 13,
   "id": "aeaf4c6a",
   "metadata": {},
   "outputs": [],
   "source": [
    "#functions\n",
    "def double(x):\n",
    "    return x*2"
   ]
  },
  {
   "cell_type": "code",
   "execution_count": 14,
   "id": "9dc64e94",
   "metadata": {},
   "outputs": [
    {
     "name": "stdout",
     "output_type": "stream",
     "text": [
      "20\n"
     ]
    }
   ],
   "source": [
    "print(double(10))"
   ]
  },
  {
   "cell_type": "code",
   "execution_count": 16,
   "id": "867bbf17",
   "metadata": {},
   "outputs": [],
   "source": [
    "def applay_to_one(f):\n",
    "    return f(1)"
   ]
  },
  {
   "cell_type": "code",
   "execution_count": 17,
   "id": "b32c9869",
   "metadata": {},
   "outputs": [],
   "source": [
    "my_double = double\n",
    "x = applay_to_one(my_double)"
   ]
  },
  {
   "cell_type": "code",
   "execution_count": 18,
   "id": "0b9aa31b",
   "metadata": {},
   "outputs": [
    {
     "data": {
      "text/plain": [
       "2"
      ]
     },
     "execution_count": 18,
     "metadata": {},
     "output_type": "execute_result"
    }
   ],
   "source": [
    "x"
   ]
  },
  {
   "cell_type": "code",
   "execution_count": 26,
   "id": "3410eae1",
   "metadata": {},
   "outputs": [],
   "source": [
    "myList = [1,2,3]\n",
    "myTuple = (1,2,3)\n",
    "myVoc = {\"first\": 1, \"second\": 0}"
   ]
  },
  {
   "cell_type": "code",
   "execution_count": 27,
   "id": "d41ba933",
   "metadata": {},
   "outputs": [
    {
     "data": {
      "text/plain": [
       "[1, 2, 3, 4]"
      ]
     },
     "execution_count": 27,
     "metadata": {},
     "output_type": "execute_result"
    }
   ],
   "source": [
    "myList.append(4)\n",
    "myList"
   ]
  },
  {
   "cell_type": "code",
   "execution_count": 28,
   "id": "58f54fe5",
   "metadata": {},
   "outputs": [
    {
     "data": {
      "text/plain": [
       "3"
      ]
     },
     "execution_count": 28,
     "metadata": {},
     "output_type": "execute_result"
    }
   ],
   "source": [
    "myTuple[2]"
   ]
  },
  {
   "cell_type": "code",
   "execution_count": 30,
   "id": "9d629a6e",
   "metadata": {},
   "outputs": [],
   "source": [
    "# myTuple[2] = do not try to change tuple"
   ]
  },
  {
   "cell_type": "code",
   "execution_count": 32,
   "id": "fdbd5f62",
   "metadata": {},
   "outputs": [
    {
     "data": {
      "text/plain": [
       "1"
      ]
     },
     "execution_count": 32,
     "metadata": {},
     "output_type": "execute_result"
    }
   ],
   "source": [
    "myVoc[\"first\"]"
   ]
  },
  {
   "cell_type": "code",
   "execution_count": 33,
   "id": "6e9c2c90",
   "metadata": {},
   "outputs": [],
   "source": [
    "myVoc[\"first\"] = 55"
   ]
  },
  {
   "cell_type": "code",
   "execution_count": 35,
   "id": "4ffa92c5",
   "metadata": {},
   "outputs": [],
   "source": [
    "myVoc[\"toto\"] = \"5656\""
   ]
  },
  {
   "cell_type": "code",
   "execution_count": 38,
   "id": "5786975d",
   "metadata": {},
   "outputs": [
    {
     "data": {
      "text/plain": [
       "dict_keys(['first', 'second', 'toto'])"
      ]
     },
     "execution_count": 38,
     "metadata": {},
     "output_type": "execute_result"
    }
   ],
   "source": [
    "myVoc.keys() #вивести всі ключі"
   ]
  },
  {
   "cell_type": "code",
   "execution_count": 40,
   "id": "87323088",
   "metadata": {},
   "outputs": [],
   "source": [
    "#DEFAULDICT 48"
   ]
  },
  {
   "cell_type": "code",
   "execution_count": 18,
   "id": "5f9e08fa",
   "metadata": {},
   "outputs": [],
   "source": [
    "document = \"Доки стоїть Україна, армія Франції буде на території Франції. Але якщо Путін піде війною на ту чи іншу країну НАТО, тоді країни НАТО будуть вирішувати, як і в якій кількості відправляти або не відправляти своїх воїнів, свої армії, бойові бригади і батальйони, – зазначив Володимир Зеленський.Його далі запитали, що б він сказав французам, які побоюються втягнення Франції чи інших європейських держав у війну і турбуются, щоб їхні діти не помирали в Україні\""
   ]
  },
  {
   "cell_type": "code",
   "execution_count": 34,
   "id": "663ef38d",
   "metadata": {},
   "outputs": [
    {
     "data": {
      "text/plain": [
       "{'Доки': 1,\n",
       " 'стоїть': 1,\n",
       " 'Україна,': 1,\n",
       " 'армія': 1,\n",
       " 'Франції': 2,\n",
       " 'буде': 1,\n",
       " 'на': 2,\n",
       " 'території': 1,\n",
       " 'Франції.': 1,\n",
       " 'Але': 1,\n",
       " 'якщо': 1,\n",
       " 'Путін': 1,\n",
       " 'піде': 1,\n",
       " 'війною': 1,\n",
       " 'ту': 1,\n",
       " 'чи': 2,\n",
       " 'іншу': 1,\n",
       " 'країну': 1,\n",
       " 'НАТО,': 1,\n",
       " 'тоді': 1,\n",
       " 'країни': 1,\n",
       " 'НАТО': 1,\n",
       " 'будуть': 1,\n",
       " 'вирішувати,': 1,\n",
       " 'як': 1,\n",
       " 'і': 3,\n",
       " 'в': 2,\n",
       " 'якій': 1,\n",
       " 'кількості': 1,\n",
       " 'відправляти': 2,\n",
       " 'або': 1,\n",
       " 'не': 2,\n",
       " 'своїх': 1,\n",
       " 'воїнів,': 1,\n",
       " 'свої': 1,\n",
       " 'армії,': 1,\n",
       " 'бойові': 1,\n",
       " 'бригади': 1,\n",
       " 'батальйони,': 1,\n",
       " '–': 1,\n",
       " 'зазначив': 1,\n",
       " 'Володимир': 1,\n",
       " 'Зеленський.Його': 1,\n",
       " 'далі': 1,\n",
       " 'запитали,': 1,\n",
       " 'що': 1,\n",
       " 'б': 1,\n",
       " 'він': 1,\n",
       " 'сказав': 1,\n",
       " 'французам,': 1,\n",
       " 'які': 1,\n",
       " 'побоюються': 1,\n",
       " 'втягнення': 1,\n",
       " 'інших': 1,\n",
       " 'європейських': 1,\n",
       " 'держав': 1,\n",
       " 'у': 1,\n",
       " 'війну': 1,\n",
       " 'турбуются,': 1,\n",
       " 'щоб': 1,\n",
       " 'їхні': 1,\n",
       " 'діти': 1,\n",
       " 'помирали': 1,\n",
       " 'Україні': 1}"
      ]
     },
     "execution_count": 34,
     "metadata": {},
     "output_type": "execute_result"
    }
   ],
   "source": [
    "docArray = document.split(\" \")\n",
    "word_add = {}\n",
    "for word in docArray:\n",
    "    if word in word_add:\n",
    "        word_add[word]+=1\n",
    "    elif word not in word_add:\n",
    "        word_add[word]=1\n",
    "        \n",
    "word_add"
   ]
  },
  {
   "cell_type": "code",
   "execution_count": 44,
   "id": "03193209",
   "metadata": {},
   "outputs": [],
   "source": [
    "document_split = document.split(\" \")\n",
    "word_counts = {}\n",
    "for word in document_split:\n",
    "    if word in word_counts:\n",
    "        word_counts[word]+=1\n",
    "    else:\n",
    "        word_counts[word] = 1\n"
   ]
  },
  {
   "cell_type": "code",
   "execution_count": 53,
   "id": "49f74e52",
   "metadata": {},
   "outputs": [
    {
     "data": {
      "text/plain": [
       "{'Доки': 1,\n",
       " 'стоїть': 1,\n",
       " 'Україна,': 1,\n",
       " 'армія': 1,\n",
       " 'Франції': 2,\n",
       " 'буде': 1,\n",
       " 'на': 2,\n",
       " 'території': 1,\n",
       " 'Франції.': 1,\n",
       " 'Але': 1,\n",
       " 'якщо': 1,\n",
       " 'Путін': 1,\n",
       " 'піде': 1,\n",
       " 'війною': 1,\n",
       " 'ту': 1,\n",
       " 'чи': 2,\n",
       " 'іншу': 1,\n",
       " 'країну': 1,\n",
       " 'НАТО,': 1,\n",
       " 'тоді': 1,\n",
       " 'країни': 1,\n",
       " 'НАТО': 1,\n",
       " 'будуть': 1,\n",
       " 'вирішувати,': 1,\n",
       " 'як': 1,\n",
       " 'і': 3,\n",
       " 'в': 2,\n",
       " 'якій': 1,\n",
       " 'кількості': 1,\n",
       " 'відправляти': 2,\n",
       " 'або': 1,\n",
       " 'не': 2,\n",
       " 'своїх': 1,\n",
       " 'воїнів,': 1,\n",
       " 'свої': 1,\n",
       " 'армії,': 1,\n",
       " 'бойові': 1,\n",
       " 'бригади': 1,\n",
       " 'батальйони,': 1,\n",
       " '–': 1,\n",
       " 'зазначив': 1,\n",
       " 'Володимир': 1,\n",
       " 'Зеленський.Його': 1,\n",
       " 'далі': 1,\n",
       " 'запитали,': 1,\n",
       " 'що': 1,\n",
       " 'б': 1,\n",
       " 'він': 1,\n",
       " 'сказав': 1,\n",
       " 'французам,': 1,\n",
       " 'які': 1,\n",
       " 'побоюються': 1,\n",
       " 'втягнення': 1,\n",
       " 'інших': 1,\n",
       " 'європейських': 1,\n",
       " 'держав': 1,\n",
       " 'у': 1,\n",
       " 'війну': 1,\n",
       " 'турбуются,': 1,\n",
       " 'щоб': 1,\n",
       " 'їхні': 1,\n",
       " 'діти': 1,\n",
       " 'помирали': 1,\n",
       " 'Україні': 1}"
      ]
     },
     "execution_count": 53,
     "metadata": {},
     "output_type": "execute_result"
    }
   ],
   "source": [
    "document_split = document.split(\" \")\n",
    "word_counts = {}\n",
    "for word in document_split:\n",
    "    try:\n",
    "        word_counts[word] += 1\n",
    "    except:\n",
    "        word_counts[word] = 1\n",
    "    \n",
    "word_counts"
   ]
  },
  {
   "cell_type": "code",
   "execution_count": 82,
   "id": "ebc75794",
   "metadata": {},
   "outputs": [],
   "source": [
    "word_counts = {}\n",
    "for word in document_split:\n",
    "    previous_count = word_counts.get(word,0)\n",
    "    word_counts[word] = previous_count+1\n",
    "\n",
    "    "
   ]
  },
  {
   "cell_type": "code",
   "execution_count": 83,
   "id": "fb1c3c98",
   "metadata": {},
   "outputs": [
    {
     "data": {
      "text/plain": [
       "defaultdict(int,\n",
       "            {'Доки': 1,\n",
       "             'стоїть': 1,\n",
       "             'Україна,': 1,\n",
       "             'армія': 1,\n",
       "             'Франції': 2,\n",
       "             'буде': 1,\n",
       "             'на': 2,\n",
       "             'території': 1,\n",
       "             'Франції.': 1,\n",
       "             'Але': 1,\n",
       "             'якщо': 1,\n",
       "             'Путін': 1,\n",
       "             'піде': 1,\n",
       "             'війною': 1,\n",
       "             'ту': 1,\n",
       "             'чи': 2,\n",
       "             'іншу': 1,\n",
       "             'країну': 1,\n",
       "             'НАТО,': 1,\n",
       "             'тоді': 1,\n",
       "             'країни': 1,\n",
       "             'НАТО': 1,\n",
       "             'будуть': 1,\n",
       "             'вирішувати,': 1,\n",
       "             'як': 1,\n",
       "             'і': 3,\n",
       "             'в': 2,\n",
       "             'якій': 1,\n",
       "             'кількості': 1,\n",
       "             'відправляти': 2,\n",
       "             'або': 1,\n",
       "             'не': 2,\n",
       "             'своїх': 1,\n",
       "             'воїнів,': 1,\n",
       "             'свої': 1,\n",
       "             'армії,': 1,\n",
       "             'бойові': 1,\n",
       "             'бригади': 1,\n",
       "             'батальйони,': 1,\n",
       "             '–': 1,\n",
       "             'зазначив': 1,\n",
       "             'Володимир': 1,\n",
       "             'Зеленський.Його': 1,\n",
       "             'далі': 1,\n",
       "             'запитали,': 1,\n",
       "             'що': 1,\n",
       "             'б': 1,\n",
       "             'він': 1,\n",
       "             'сказав': 1,\n",
       "             'французам,': 1,\n",
       "             'які': 1,\n",
       "             'побоюються': 1,\n",
       "             'втягнення': 1,\n",
       "             'інших': 1,\n",
       "             'європейських': 1,\n",
       "             'держав': 1,\n",
       "             'у': 1,\n",
       "             'війну': 1,\n",
       "             'турбуются,': 1,\n",
       "             'щоб': 1,\n",
       "             'їхні': 1,\n",
       "             'діти': 1,\n",
       "             'помирали': 1,\n",
       "             'Україні': 1})"
      ]
     },
     "execution_count": 83,
     "metadata": {},
     "output_type": "execute_result"
    }
   ],
   "source": [
    "from collections import defaultdict\n",
    "word_counts = defaultdict(int)\n",
    "\n",
    "for word in document_array:\n",
    "    word_counts[word]+=1\n",
    "word_counts"
   ]
  },
  {
   "cell_type": "code",
   "execution_count": 84,
   "id": "1bb7fa83",
   "metadata": {},
   "outputs": [
    {
     "data": {
      "text/plain": [
       "Counter({'і': 3,\n",
       "         'Франції': 2,\n",
       "         'на': 2,\n",
       "         'чи': 2,\n",
       "         'в': 2,\n",
       "         'відправляти': 2,\n",
       "         'не': 2,\n",
       "         'Доки': 1,\n",
       "         'стоїть': 1,\n",
       "         'Україна,': 1,\n",
       "         'армія': 1,\n",
       "         'буде': 1,\n",
       "         'території': 1,\n",
       "         'Франції.': 1,\n",
       "         'Але': 1,\n",
       "         'якщо': 1,\n",
       "         'Путін': 1,\n",
       "         'піде': 1,\n",
       "         'війною': 1,\n",
       "         'ту': 1,\n",
       "         'іншу': 1,\n",
       "         'країну': 1,\n",
       "         'НАТО,': 1,\n",
       "         'тоді': 1,\n",
       "         'країни': 1,\n",
       "         'НАТО': 1,\n",
       "         'будуть': 1,\n",
       "         'вирішувати,': 1,\n",
       "         'як': 1,\n",
       "         'якій': 1,\n",
       "         'кількості': 1,\n",
       "         'або': 1,\n",
       "         'своїх': 1,\n",
       "         'воїнів,': 1,\n",
       "         'свої': 1,\n",
       "         'армії,': 1,\n",
       "         'бойові': 1,\n",
       "         'бригади': 1,\n",
       "         'батальйони,': 1,\n",
       "         '–': 1,\n",
       "         'зазначив': 1,\n",
       "         'Володимир': 1,\n",
       "         'Зеленський.Його': 1,\n",
       "         'далі': 1,\n",
       "         'запитали,': 1,\n",
       "         'що': 1,\n",
       "         'б': 1,\n",
       "         'він': 1,\n",
       "         'сказав': 1,\n",
       "         'французам,': 1,\n",
       "         'які': 1,\n",
       "         'побоюються': 1,\n",
       "         'втягнення': 1,\n",
       "         'інших': 1,\n",
       "         'європейських': 1,\n",
       "         'держав': 1,\n",
       "         'у': 1,\n",
       "         'війну': 1,\n",
       "         'турбуются,': 1,\n",
       "         'щоб': 1,\n",
       "         'їхні': 1,\n",
       "         'діти': 1,\n",
       "         'помирали': 1,\n",
       "         'Україні': 1})"
      ]
     },
     "execution_count": 84,
     "metadata": {},
     "output_type": "execute_result"
    }
   ],
   "source": [
    "from collections import Counter\n",
    "word_counters = Counter(document_array)\n",
    "word_counters"
   ]
  },
  {
   "cell_type": "code",
   "execution_count": 89,
   "id": "1aeb194a",
   "metadata": {},
   "outputs": [
    {
     "data": {
      "text/plain": [
       "[0, 1, 4, 9, 16, 25, 36, 49, 64, 81]"
      ]
     },
     "execution_count": 89,
     "metadata": {},
     "output_type": "execute_result"
    }
   ],
   "source": [
    "squares = [x**2 for x in range(10)]\n",
    "squares"
   ]
  },
  {
   "cell_type": "code",
   "execution_count": 93,
   "id": "df1055f8",
   "metadata": {},
   "outputs": [
    {
     "data": {
      "text/plain": [
       "[0,\n",
       " 10,\n",
       " 20,\n",
       " 30,\n",
       " 40,\n",
       " 50,\n",
       " 60,\n",
       " 70,\n",
       " 80,\n",
       " 90,\n",
       " 100,\n",
       " 110,\n",
       " 120,\n",
       " 130,\n",
       " 140,\n",
       " 150,\n",
       " 160,\n",
       " 170,\n",
       " 180,\n",
       " 190,\n",
       " 200,\n",
       " 210,\n",
       " 220,\n",
       " 230,\n",
       " 240,\n",
       " 250,\n",
       " 260,\n",
       " 270,\n",
       " 280,\n",
       " 290,\n",
       " 300,\n",
       " 310,\n",
       " 320,\n",
       " 330,\n",
       " 340,\n",
       " 350,\n",
       " 360,\n",
       " 370,\n",
       " 380,\n",
       " 390,\n",
       " 400,\n",
       " 410,\n",
       " 420,\n",
       " 430,\n",
       " 440,\n",
       " 450,\n",
       " 460,\n",
       " 470,\n",
       " 480,\n",
       " 490]"
      ]
     },
     "execution_count": 93,
     "metadata": {},
     "output_type": "execute_result"
    }
   ],
   "source": [
    "even_num = [x*5 for x in range(100) if x%2 == 0]\n",
    "even_num"
   ]
  },
  {
   "cell_type": "code",
   "execution_count": 96,
   "id": "540d655f",
   "metadata": {},
   "outputs": [
    {
     "data": {
      "text/plain": [
       "{0,\n",
       " 10,\n",
       " 20,\n",
       " 30,\n",
       " 40,\n",
       " 50,\n",
       " 60,\n",
       " 70,\n",
       " 80,\n",
       " 90,\n",
       " 100,\n",
       " 110,\n",
       " 120,\n",
       " 130,\n",
       " 140,\n",
       " 150,\n",
       " 160,\n",
       " 170,\n",
       " 180,\n",
       " 190,\n",
       " 200,\n",
       " 210,\n",
       " 220,\n",
       " 230,\n",
       " 240,\n",
       " 250,\n",
       " 260,\n",
       " 270,\n",
       " 280,\n",
       " 290,\n",
       " 300,\n",
       " 310,\n",
       " 320,\n",
       " 330,\n",
       " 340,\n",
       " 350,\n",
       " 360,\n",
       " 370,\n",
       " 380,\n",
       " 390,\n",
       " 400,\n",
       " 410,\n",
       " 420,\n",
       " 430,\n",
       " 440,\n",
       " 450,\n",
       " 460,\n",
       " 470,\n",
       " 480,\n",
       " 490}"
      ]
     },
     "execution_count": 96,
     "metadata": {},
     "output_type": "execute_result"
    }
   ],
   "source": [
    "square_dict = {x for x in even_num}\n",
    "square_dict"
   ]
  },
  {
   "cell_type": "code",
   "execution_count": 98,
   "id": "fbb2b584",
   "metadata": {},
   "outputs": [
    {
     "data": {
      "text/plain": [
       "[(0, 1),\n",
       " (0, 2),\n",
       " (0, 3),\n",
       " (0, 4),\n",
       " (0, 5),\n",
       " (0, 6),\n",
       " (0, 7),\n",
       " (0, 8),\n",
       " (0, 9),\n",
       " (1, 2),\n",
       " (1, 3),\n",
       " (1, 4),\n",
       " (1, 5),\n",
       " (1, 6),\n",
       " (1, 7),\n",
       " (1, 8),\n",
       " (1, 9),\n",
       " (2, 3),\n",
       " (2, 4),\n",
       " (2, 5),\n",
       " (2, 6),\n",
       " (2, 7),\n",
       " (2, 8),\n",
       " (2, 9),\n",
       " (3, 4),\n",
       " (3, 5),\n",
       " (3, 6),\n",
       " (3, 7),\n",
       " (3, 8),\n",
       " (3, 9),\n",
       " (4, 5),\n",
       " (4, 6),\n",
       " (4, 7),\n",
       " (4, 8),\n",
       " (4, 9),\n",
       " (5, 6),\n",
       " (5, 7),\n",
       " (5, 8),\n",
       " (5, 9),\n",
       " (6, 7),\n",
       " (6, 8),\n",
       " (6, 9),\n",
       " (7, 8),\n",
       " (7, 9),\n",
       " (8, 9)]"
      ]
     },
     "execution_count": 98,
     "metadata": {},
     "output_type": "execute_result"
    }
   ],
   "source": [
    "pairs = [(x,y) for x in range(10)\n",
    "        for y in range(10)]\n",
    "increasing_pairs = [(x,y) for x in range(10)\n",
    "                   for y in range(x+1, 10)]\n",
    "increasing_pairs"
   ]
  },
  {
   "cell_type": "code",
   "execution_count": null,
   "id": "8e49ee5f",
   "metadata": {},
   "outputs": [],
   "source": [
    "def lazy_range(n):\n",
    "    i = 0\n",
    "    while i < n:\n",
    "        yield i\n",
    "        i += 1"
   ]
  }
 ],
 "metadata": {
  "kernelspec": {
   "display_name": "Python 3 (ipykernel)",
   "language": "python",
   "name": "python3"
  },
  "language_info": {
   "codemirror_mode": {
    "name": "ipython",
    "version": 3
   },
   "file_extension": ".py",
   "mimetype": "text/x-python",
   "name": "python",
   "nbconvert_exporter": "python",
   "pygments_lexer": "ipython3",
   "version": "3.11.5"
  }
 },
 "nbformat": 4,
 "nbformat_minor": 5
}
