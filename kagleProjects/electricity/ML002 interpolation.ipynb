{
 "cells": [
  {
   "cell_type": "code",
   "execution_count": 3,
   "id": "ff1cd213-3bae-48e4-9cab-88762723045a",
   "metadata": {},
   "outputs": [],
   "source": [
    "%matplotlib inline\n",
    "import numpy\n",
    "import pandas as pd\n",
    "from scipy.interpolate import interp1d\n",
    "import matplotlib.pyplot as plt\n",
    "from matplotlib.pyplot import rcParams\n",
    "rcParams['figure.figsize'] = 16, 8\n"
   ]
  },
  {
   "cell_type": "code",
   "execution_count": 6,
   "id": "a0375ef4-c8aa-46d0-847d-b6070dd7a9c6",
   "metadata": {},
   "outputs": [
    {
     "name": "stdout",
     "output_type": "stream",
     "text": [
      "   building_id  meter            timestamp  meter_reading\n",
      "0            0      0  2016-01-01 00:00:00            0.0\n",
      "1            0      0  2016-01-01 01:00:00            0.0\n",
      "2            0      0  2016-01-01 02:00:00            0.0\n",
      "3            0      0  2016-01-01 03:00:00            0.0\n",
      "4            0      0  2016-01-01 04:00:00            0.0\n"
     ]
    }
   ],
   "source": [
    "energy_0 = pd.read_csv(\"./train.0.0.csv\")\n",
    "print(energy_0.head())"
   ]
  },
  {
   "cell_type": "code",
   "execution_count": null,
   "id": "d183ade6-d495-4f64-98e0-1560f5e5c7cb",
   "metadata": {},
   "outputs": [],
   "source": []
  }
 ],
 "metadata": {
  "kernelspec": {
   "display_name": "Python 3 (ipykernel)",
   "language": "python",
   "name": "python3"
  },
  "language_info": {
   "codemirror_mode": {
    "name": "ipython",
    "version": 3
   },
   "file_extension": ".py",
   "mimetype": "text/x-python",
   "name": "python",
   "nbconvert_exporter": "python",
   "pygments_lexer": "ipython3",
   "version": "3.11.7"
  }
 },
 "nbformat": 4,
 "nbformat_minor": 5
}
