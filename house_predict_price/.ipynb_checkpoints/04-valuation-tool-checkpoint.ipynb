{
 "cells": [
  {
   "cell_type": "code",
   "execution_count": 1,
   "id": "25c78063",
   "metadata": {},
   "outputs": [],
   "source": [
    "from sklearn.linear_model import LinearRegression\n",
    "from sklearn.metrics import mean_squared_error\n",
    "\n",
    "import pandas as pd\n",
    "import numpy as np"
   ]
  },
  {
   "cell_type": "code",
   "execution_count": 2,
   "id": "32837495",
   "metadata": {},
   "outputs": [],
   "source": [
    "boston_dataset = pd.read_csv('./BostonHousing.csv')\n",
    "data = boston_dataset.drop(['medv'], axis=1)\n",
    "target_b = boston_dataset['medv']\n",
    "#data['price'] = boston_dataset_target\n",
    "features = data.drop([\"indus\", \"age\"], axis=1)\n",
    "\n",
    "log_prices = np.log(target_b)\n",
    "target = pd.DataFrame(data=log_prices.values, columns=['price']) \n"
   ]
  },
  {
   "cell_type": "code",
   "execution_count": 4,
   "id": "c04a539b",
   "metadata": {},
   "outputs": [
    {
     "data": {
      "text/plain": [
       "array([[3.61352356e+00, 1.13636364e+01, 6.91699605e-02, 5.54695059e-01,\n",
       "        6.28463439e+00, 3.79504269e+00, 9.54940711e+00, 4.08237154e+02,\n",
       "        1.84555336e+01, 3.56674032e+02, 1.26530632e+01]])"
      ]
     },
     "execution_count": 4,
     "metadata": {},
     "output_type": "execute_result"
    }
   ],
   "source": [
    "CRIME_IDX = 0\n",
    "ZN_IDX = 1\n",
    "CHAS_IDX = 2\n",
    "RM_IDX = 4\n",
    "PTRATIO_IDX = 8\n",
    "\n",
    "# property_stats = np.ndarray(shape = (1,11))\n",
    "# property_stats[0][CRIME_IDX] = features['crim'].mean()\n",
    "# property_stats[0][ZN_IDX] = features['zn'].mean()\n",
    "# property_stats[0][CHAS_IDX] = features['chas'].mean()\n",
    "\n",
    "property_stats = features.mean().values.reshape(1,11) #масив з середніми по всіх стовпцях\n"
   ]
  },
  {
   "cell_type": "code",
   "execution_count": 22,
   "id": "3bb7238c",
   "metadata": {},
   "outputs": [],
   "source": [
    "regr = LinearRegression().fit(features, target)\n",
    "fitted_vals = regr.predict(features)\n",
    "\n",
    "MSE = mean_squared_error(target, fitted_vals)\n",
    "RMSE = np.sqrt(MSE)\n"
   ]
  },
  {
   "cell_type": "code",
   "execution_count": 47,
   "id": "d7a9121b",
   "metadata": {},
   "outputs": [],
   "source": [
    "def get_log_estimate(nr_rooms,\n",
    "                    students_per_classroom,\n",
    "                    next_to_river=False,\n",
    "                    hight_confidence=True):\n",
    "    \n",
    "    #configure property\n",
    "    property_stats[0][RM_IDX] = nr_rooms\n",
    "    property_stats[0][PTRATIO_IDX] = students_per_classroom\n",
    "    \n",
    "    if next_to_river:\n",
    "        property_stats[0][CHAS_IDX] = 1\n",
    "    else:\n",
    "        property_stats[0][CHAS_IDX] = 0\n",
    "    \n",
    "    # Make prediction\n",
    "    log_estimate = regr.predict(property_stats)[0][0]\n",
    "   \n",
    "    #Calc Range\n",
    "    if hight_confidence:\n",
    "        upper_bound = log_estimate+2*RMSE\n",
    "        lower_bound = log_estimate-2*RMSE\n",
    "        interval = 95\n",
    "    else:\n",
    "        upper_bound = log_estimate+RMSE\n",
    "        lower_bound = log_estimate-RMSE\n",
    "        interval = 68\n",
    "        \n",
    "    return log_estimate, upper_bound, lower_bound, interval"
   ]
  },
  {
   "cell_type": "code",
   "execution_count": 48,
   "id": "10fde542",
   "metadata": {},
   "outputs": [
    {
     "name": "stderr",
     "output_type": "stream",
     "text": [
      "C:\\ProgramData\\anaconda3\\Lib\\site-packages\\sklearn\\base.py:464: UserWarning: X does not have valid feature names, but LinearRegression was fitted with feature names\n",
      "  warnings.warn(\n"
     ]
    },
    {
     "data": {
      "text/plain": [
       "(2.7767581914804014, 2.9642703266775317, 2.589246056283271, 68)"
      ]
     },
     "execution_count": 48,
     "metadata": {},
     "output_type": "execute_result"
    }
   ],
   "source": [
    "get_log_estimate(3,20, next_to_river=True, hight_confidence=False)"
   ]
  },
  {
   "cell_type": "code",
   "execution_count": 51,
   "id": "b290e5e1",
   "metadata": {},
   "outputs": [
    {
     "data": {
      "text/plain": [
       "21.2"
      ]
     },
     "execution_count": 51,
     "metadata": {},
     "output_type": "execute_result"
    }
   ],
   "source": [
    "np.median(target_b)"
   ]
  },
  {
   "cell_type": "code",
   "execution_count": 62,
   "id": "7c0fdfcc",
   "metadata": {},
   "outputs": [
    {
     "name": "stdout",
     "output_type": "stream",
     "text": [
      "The estimated property value is 827000.0.\n",
      "At 68% confidence the valuation range is 827000.0.\n",
      " USD 685000.0 at the lower end to USD 997000.0 at hight end.\n"
     ]
    },
    {
     "name": "stderr",
     "output_type": "stream",
     "text": [
      "C:\\ProgramData\\anaconda3\\Lib\\site-packages\\sklearn\\base.py:464: UserWarning: X does not have valid feature names, but LinearRegression was fitted with feature names\n",
      "  warnings.warn(\n"
     ]
    }
   ],
   "source": [
    "ZILLOW_MEDIAN_PRICE = 583.3\n",
    "SCALE_FACTOR = ZILLOW_MEDIAN_PRICE/np.median(target_b)\n",
    "\n",
    "log_est, upper, lower, conf = get_log_estimate(9, students_per_classroom=15, next_to_river=False, hight_confidence=False)\n",
    "\n",
    "#Convert to today's dollars\n",
    "dollar_est = np.e**log_est*1000*SCALE_FACTOR\n",
    "dollar_hi = np.e**upper*1000*SCALE_FACTOR\n",
    "dollar_low = np.e**lower*1000*SCALE_FACTOR\n",
    "\n",
    "\n",
    "rounded_est = np.round(dollar_est,-3)\n",
    "rounded_hi = np.round(dollar_hi,-3)\n",
    "rounded_low = np.round(dollar_low,-3)\n",
    "\n",
    "print(f'The estimated property value is {rounded_est}.')\n",
    "print(f'At {conf}% confidence the valuation range is {rounded_est}.\\n USD {rounded_low} at the lower end to USD {rounded_hi} at hight end.')\n"
   ]
  }
 ],
 "metadata": {
  "kernelspec": {
   "display_name": "Python 3 (ipykernel)",
   "language": "python",
   "name": "python3"
  },
  "language_info": {
   "codemirror_mode": {
    "name": "ipython",
    "version": 3
   },
   "file_extension": ".py",
   "mimetype": "text/x-python",
   "name": "python",
   "nbconvert_exporter": "python",
   "pygments_lexer": "ipython3",
   "version": "3.11.5"
  }
 },
 "nbformat": 4,
 "nbformat_minor": 5
}
