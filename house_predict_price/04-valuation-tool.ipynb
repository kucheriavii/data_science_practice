{
 "cells": [
  {
   "cell_type": "code",
   "execution_count": 8,
   "id": "25c78063",
   "metadata": {},
   "outputs": [],
   "source": [
    "from sklearn.linear_model import LinearRegression\n",
    "from sklearn.metrics import mean_squared_error\n",
    "\n",
    "import pandas as pd\n",
    "import numpy as np"
   ]
  },
  {
   "cell_type": "code",
   "execution_count": 37,
   "id": "32837495",
   "metadata": {},
   "outputs": [
    {
     "data": {
      "text/plain": [
       "(506, 1)"
      ]
     },
     "execution_count": 37,
     "metadata": {},
     "output_type": "execute_result"
    }
   ],
   "source": [
    "boston_dataset = pd.read_csv('./BostonHousing.csv')\n",
    "data = boston_dataset.drop(['medv'], axis=1)\n",
    "target_b = boston_dataset['medv']\n",
    "#data['price'] = boston_dataset_target\n",
    "features = data.drop([\"indus\", \"age\"], axis=1)\n",
    "\n",
    "log_prices = np.log(target_b)\n",
    "target = pd.DataFrame(data=log_prices.values, columns=['price']) \n"
   ]
  },
  {
   "cell_type": "code",
   "execution_count": 63,
   "id": "c04a539b",
   "metadata": {},
   "outputs": [],
   "source": [
    "CRIME_IDX = 0\n",
    "ZN_IDX = 1\n",
    "CHAS_IDX = 2\n",
    "RM_IDX = 4\n",
    "PTRATIO_IDX = 8\n",
    "\n",
    "# property_stats = np.ndarray(shape = (1,11))\n",
    "# property_stats[0][CRIME_IDX] = features['crim'].mean()\n",
    "# property_stats[0][ZN_IDX] = features['zn'].mean()\n",
    "# property_stats[0][CHAS_IDX] = features['chas'].mean()\n",
    "\n",
    "property_stats = features.mean().values.reshape(1,11) #масив з середніми по всіх стовпцях\n"
   ]
  },
  {
   "cell_type": "code",
   "execution_count": null,
   "id": "3bb7238c",
   "metadata": {},
   "outputs": [],
   "source": [
    "\n"
   ]
  }
 ],
 "metadata": {
  "kernelspec": {
   "display_name": "Python 3 (ipykernel)",
   "language": "python",
   "name": "python3"
  },
  "language_info": {
   "codemirror_mode": {
    "name": "ipython",
    "version": 3
   },
   "file_extension": ".py",
   "mimetype": "text/x-python",
   "name": "python",
   "nbconvert_exporter": "python",
   "pygments_lexer": "ipython3",
   "version": "3.11.5"
  }
 },
 "nbformat": 4,
 "nbformat_minor": 5
}
